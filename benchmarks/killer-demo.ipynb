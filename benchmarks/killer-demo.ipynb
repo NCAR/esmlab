{
 "cells": [
  {
   "cell_type": "markdown",
   "metadata": {},
   "source": [
    "# Killer Demo: Compute a global mean, annual mean timeseries from the CESM Large Ensemble"
   ]
  },
  {
   "cell_type": "code",
   "execution_count": 1,
   "metadata": {},
   "outputs": [],
   "source": [
    "%load_ext autoreload\n",
    "%autoreload 2"
   ]
  },
  {
   "cell_type": "code",
   "execution_count": 2,
   "metadata": {},
   "outputs": [
    {
     "name": "stderr",
     "output_type": "stream",
     "text": [
      "/glade/work/abanihi/softwares/miniconda3/envs/analysis/lib/python3.7/site-packages/dask_jobqueue/config.py:12: YAMLLoadWarning: calling yaml.load() without Loader=... is deprecated, as the default Loader is unsafe. Please read https://msg.pyyaml.org/load for full details.\n",
      "  defaults = yaml.load(f)\n",
      "/glade/work/abanihi/softwares/miniconda3/envs/analysis/lib/python3.7/site-packages/tqdm/autonotebook/__init__.py:14: TqdmExperimentalWarning: Using `tqdm.autonotebook.tqdm` in notebook mode. Use `tqdm.tqdm` instead to force console mode (e.g. in jupyter console)\n",
      "  \" (e.g. in jupyter console)\", TqdmExperimentalWarning)\n"
     ]
    }
   ],
   "source": [
    "%matplotlib inline\n",
    "import math, time\n",
    "from dask.distributed import Client, wait\n",
    "import ncar_jobqueue\n",
    "import dask\n",
    "import xarray as xr\n",
    "import intake\n",
    "import numpy as np\n",
    "from distributed.utils import format_bytes \n",
    "import matplotlib.pyplot as plt\n",
    "import esmlab"
   ]
  },
  {
   "cell_type": "markdown",
   "metadata": {},
   "source": [
    "## Spin up a dask cluster\n",
    "We are using `ncar_jobqueue.NCARCluster`; this just passes thru to `dask_jobqueue.PBSCluster` or `dask_jobqueue.SLURMCluster` depending on whether you are on Cheyenne or a DAV machine.\n",
    "\n",
    "Note: `dask_jobqueue.SLURMCluster` does not work on Cheyenne compute nodes, though the cluster jobs will start giving the appearance of functionality.\n",
    "\n",
    "Default arguments to `ncar_jobqueue.NCARCluster` are set in `~/.config/dask/jobqueue.yaml`; you can over-ride these defaults by passing in arguments directly here."
   ]
  },
  {
   "cell_type": "code",
   "execution_count": 3,
   "metadata": {},
   "outputs": [
    {
     "name": "stderr",
     "output_type": "stream",
     "text": [
      "/glade/work/abanihi/softwares/miniconda3/envs/analysis/lib/python3.7/site-packages/distributed/deploy/local.py:106: UserWarning: diagnostics_port has been deprecated. Please use `dashboard_address=` instead\n",
      "  \"diagnostics_port has been deprecated. \"\n"
     ]
    }
   ],
   "source": [
    "cluster = ncar_jobqueue.NCARCluster(walltime=\"01:00:00\", cores=36, memory='370GB', processes=3, project='NTDD0005')\n",
    "client = dask.distributed.Client(cluster)\n",
    "n_workers = 3 * 15\n",
    "cluster.scale(n_workers)"
   ]
  },
  {
   "cell_type": "code",
   "execution_count": 5,
   "metadata": {},
   "outputs": [
    {
     "data": {
      "text/html": [
       "<table style=\"border: 2px solid white;\">\n",
       "<tr>\n",
       "<td style=\"vertical-align: top; border: 0px solid white\">\n",
       "<h3>Client</h3>\n",
       "<ul>\n",
       "  <li><b>Scheduler: </b>tcp://10.12.205.19:34587\n",
       "  <li><b>Dashboard: </b><a href='https://jupyterhub.ucar.edu/ch/user/abanihi/proxy/8787/status' target='_blank'>https://jupyterhub.ucar.edu/ch/user/abanihi/proxy/8787/status</a>\n",
       "</ul>\n",
       "</td>\n",
       "<td style=\"vertical-align: top; border: 0px solid white\">\n",
       "<h3>Cluster</h3>\n",
       "<ul>\n",
       "  <li><b>Workers: </b>42</li>\n",
       "  <li><b>Cores: </b>504</li>\n",
       "  <li><b>Memory: </b>5.18 TB</li>\n",
       "</ul>\n",
       "</td>\n",
       "</tr>\n",
       "</table>"
      ],
      "text/plain": [
       "<Client: scheduler='tcp://10.12.205.19:34587' processes=42 cores=504>"
      ]
     },
     "execution_count": 5,
     "metadata": {},
     "output_type": "execute_result"
    }
   ],
   "source": [
    "client"
   ]
  },
  {
   "cell_type": "markdown",
   "metadata": {},
   "source": [
    "## Connect to the intake-esm data catalog\n",
    "\n",
    "An input file `cesm1-le-collection.yml` specifies where to look for files and assembles a database for the CESM-LE. `intake-esm` configuration settings are stored by default in `~/.intake_esm/config.yaml` or locally in `.intake_esm/config.yaml`. Key things to specify are the `database_directory`, which is where the catalog data file (csv) is written to disk."
   ]
  },
  {
   "cell_type": "code",
   "execution_count": 6,
   "metadata": {},
   "outputs": [
    {
     "name": "stdout",
     "output_type": "stream",
     "text": [
      "<class 'pandas.core.frame.DataFrame'>\n",
      "Int64Index: 116280 entries, 0 to 116279\n",
      "Data columns (total 18 columns):\n",
      "resource            116280 non-null object\n",
      "resource_type       116280 non-null object\n",
      "direct_access       116280 non-null bool\n",
      "experiment          116280 non-null object\n",
      "case                116280 non-null object\n",
      "component           116280 non-null object\n",
      "stream              116280 non-null object\n",
      "variable            116280 non-null object\n",
      "date_range          116280 non-null object\n",
      "ensemble            116280 non-null int64\n",
      "file_fullpath       116280 non-null object\n",
      "file_basename       116280 non-null object\n",
      "file_dirname        116280 non-null object\n",
      "ctrl_branch_year    0 non-null float64\n",
      "year_offset         15145 non-null float64\n",
      "sequence_order      116280 non-null int64\n",
      "has_ocean_bgc       116280 non-null bool\n",
      "grid                13013 non-null object\n",
      "dtypes: bool(2), float64(2), int64(2), object(12)\n",
      "memory usage: 15.3+ MB\n"
     ]
    }
   ],
   "source": [
    "col = intake.open_esm_metadatastore(collection_input_definition='cesm1-le-collection.yml', \n",
    "                                    overwrite_existing=False)\n",
    "col.df.info()"
   ]
  },
  {
   "cell_type": "markdown",
   "metadata": {},
   "source": [
    "## Compute grid weights for a global mean\n",
    "\n",
    "### Load a dataset and read in the grid variables\n",
    "\n",
    "To compute a properly-weighted spatial mean, we need a cell-volume array. We'll pick out the necessary grid variables from a single file. First, let's get an arbitrary POP history file from the catalog."
   ]
  },
  {
   "cell_type": "code",
   "execution_count": 7,
   "metadata": {},
   "outputs": [
    {
     "data": {
      "text/plain": [
       "<xarray.Dataset>\n",
       "Dimensions:  (nlat: 384, nlon: 320, z_t: 60)\n",
       "Coordinates:\n",
       "  * z_t      (z_t) float32 500.0 1500.0 2500.0 ... 487508.34 512502.8 537500.0\n",
       "Dimensions without coordinates: nlat, nlon\n",
       "Data variables:\n",
       "    KMT      (nlat, nlon) float64 0.0 0.0 0.0 0.0 0.0 ... 0.0 0.0 0.0 0.0 0.0\n",
       "    TAREA    (nlat, nlon) float64 1.125e+13 1.125e+13 ... 7.431e+12 7.432e+12\n",
       "    dz       (z_t) float32 1000.0 1000.0 1000.0 ... 24992.674 24996.244 24998.11\n",
       "Attributes:\n",
       "    title:                     b.e11.B20TRC5CNBDRD.f09_g16.001\n",
       "    history:                   Fri Aug 30 23:36:34 2013: /glade/apps/opt/nco/...\n",
       "    Conventions:               CF-1.0; http://www.cgd.ucar.edu/cms/eaton/netc...\n",
       "    contents:                  Diagnostic and Prognostic Variables\n",
       "    source:                    CCSM POP2, the CCSM Ocean Component\n",
       "    revision:                  $Id: tavg.F90 41939 2012-11-14 16:37:23Z mlevy...\n",
       "    calendar:                  All years have exactly  365 days.\n",
       "    start_time:                This dataset was created on 2013-05-24 at 14:5...\n",
       "    cell_methods:              cell_methods = time: mean ==> the variable val...\n",
       "    nsteps_total:              750\n",
       "    tavg_sum:                  2592000.0\n",
       "    tavg_sum_qflux:            2592000.0\n",
       "    NCO:                       4.3.4\n",
       "    nco_openmp_thread_number:  1"
      ]
     },
     "execution_count": 7,
     "metadata": {},
     "output_type": "execute_result"
    }
   ],
   "source": [
    "arbitrary_pop_file = col.search(experiment='20C', stream='pop.h').query_results.file_fullpath.tolist()[0]\n",
    "ds = xr.open_dataset(arbitrary_pop_file, decode_times=False, decode_coords=False)\n",
    "grid_vars = ['KMT', 'z_t', 'TAREA', 'dz']\n",
    "ds = ds.drop([v for v in ds.variables if v not in grid_vars]).compute()\n",
    "ds"
   ]
  },
  {
   "cell_type": "markdown",
   "metadata": {},
   "source": [
    "### Compute a 3D topography mask\n",
    "\n",
    "Now we'll compute the 3D volume field, masked appropriate by the topography.\n",
    "\n",
    "First step is to create the land mask."
   ]
  },
  {
   "cell_type": "code",
   "execution_count": 8,
   "metadata": {},
   "outputs": [
    {
     "data": {
      "text/plain": [
       "Text(0.5, 1.0, 'Pacific transect')"
      ]
     },
     "execution_count": 8,
     "metadata": {},
     "output_type": "execute_result"
    },
    {
     "data": {
      "image/png": "[encoded data removed]",
      "text/plain": [
       "<Figure size 432x288 with 2 Axes>"
      ]
     },
     "metadata": {
      "needs_background": "light"
     },
     "output_type": "display_data"
    },
    {
     "data": {
      "image/png": "[encoded data removed]",
      "text/plain": [
       "<Figure size 432x288 with 2 Axes>"
      ]
     },
     "metadata": {
      "needs_background": "light"
     },
     "output_type": "display_data"
    }
   ],
   "source": [
    "nk = len(ds.z_t)\n",
    "nj = ds.KMT.shape[0]\n",
    "ni = ds.KMT.shape[1]\n",
    "\n",
    "# make 3D array of 0:km\n",
    "k_vector_one_to_km = xr.DataArray(np.arange(0, nk), dims=('z_t'), coords={'z_t': ds.z_t})\n",
    "ONES_3d = xr.DataArray(np.ones((nk, nj, ni)), dims=('z_t', 'nlat', 'nlon'), coords={'z_t': ds.z_t})\n",
    "MASK = (k_vector_one_to_km * ONES_3d)\n",
    "\n",
    "# mask out cells where k is below KMT\n",
    "MASK = MASK.where(MASK <= ds.KMT - 1)\n",
    "MASK = xr.where(MASK.notnull(), 1., 0.)\n",
    "\n",
    "plt.figure()\n",
    "MASK.isel(z_t=0).plot()\n",
    "plt.title('Surface mask')\n",
    "\n",
    "plt.figure()\n",
    "MASK.isel(nlon=200).plot(yincrease=False)\n",
    "plt.title('Pacific transect')"
   ]
  },
  {
   "cell_type": "markdown",
   "metadata": {},
   "source": [
    "### Compute the 3D volume field\n",
    "Now we'll compute the masked volume field by multiplying `z_t` by `TAREA` by the mask created above."
   ]
  },
  {
   "cell_type": "code",
   "execution_count": 9,
   "metadata": {},
   "outputs": [
    {
     "data": {
      "text/plain": [
       "Text(0.5, 1.0, 'Pacific transect')"
      ]
     },
     "execution_count": 9,
     "metadata": {},
     "output_type": "execute_result"
    },
    {
     "data": {
      "image/png": "[encoded data removed]",
      "text/plain": [
       "<Figure size 432x288 with 2 Axes>"
      ]
     },
     "metadata": {
      "needs_background": "light"
     },
     "output_type": "display_data"
    },
    {
     "data": {
      "image/png": "[encoded data removed]",
      "text/plain": [
       "<Figure size 432x288 with 2 Axes>"
      ]
     },
     "metadata": {
      "needs_background": "light"
     },
     "output_type": "display_data"
    }
   ],
   "source": [
    "MASKED_VOL = ds.dz * ds.TAREA * MASK\n",
    "MASKED_VOL.attrs['units'] = 'cm^3'\n",
    "MASKED_VOL.attrs['long_name'] = 'masked volume'\n",
    "plt.figure()\n",
    "MASKED_VOL.isel(z_t=0).plot()\n",
    "plt.title('Surface mask')\n",
    "\n",
    "plt.figure()\n",
    "MASKED_VOL.isel(nlon=200).plot(yincrease=False)\n",
    "plt.title('Pacific transect')"
   ]
  },
  {
   "cell_type": "markdown",
   "metadata": {},
   "source": [
    "## Compute global-mean, annual-means across the ensemble\n",
    "\n",
    "### Find the ensemble members that have ocean biogeochemistry\n",
    "(several of the runs had corrupted BGC fields)"
   ]
  },
  {
   "cell_type": "code",
   "execution_count": 10,
   "metadata": {},
   "outputs": [
    {
     "name": "stdout",
     "output_type": "stream",
     "text": [
      "[1, 2, 9, 10, 11, 12, 13, 14, 15, 16, 17, 18, 19, 20, 21, 22, 23, 24, 26, 27, 28, 29, 30, 31, 32, 34, 35, 101, 102, 103, 104, 105]\n"
     ]
    }
   ],
   "source": [
    "member_ids = col.search(experiment=['20C', 'RCP85'], has_ocean_bgc=True).query_results.ensemble.unique().tolist()\n",
    "print(member_ids)"
   ]
  },
  {
   "cell_type": "markdown",
   "metadata": {},
   "source": [
    "### Load data into an xarray dataset\n",
    "\n",
    "We'll query intake-esm to get a subset of the catalog that contains data sets of interest."
   ]
  },
  {
   "cell_type": "code",
   "execution_count": 11,
   "metadata": {},
   "outputs": [
    {
     "name": "stdout",
     "output_type": "stream",
     "text": [
      "<class 'pandas.core.frame.DataFrame'>\n",
      "Int64Index: 89 entries, 100509 to 292\n",
      "Data columns (total 18 columns):\n",
      "resource            89 non-null object\n",
      "resource_type       89 non-null object\n",
      "direct_access       89 non-null bool\n",
      "experiment          89 non-null object\n",
      "case                89 non-null object\n",
      "component           89 non-null object\n",
      "stream              89 non-null object\n",
      "variable            89 non-null object\n",
      "date_range          89 non-null object\n",
      "ensemble            89 non-null int64\n",
      "file_fullpath       89 non-null object\n",
      "file_basename       89 non-null object\n",
      "file_dirname        89 non-null object\n",
      "ctrl_branch_year    0 non-null float64\n",
      "year_offset         0 non-null float64\n",
      "sequence_order      89 non-null int64\n",
      "has_ocean_bgc       89 non-null bool\n",
      "grid                89 non-null object\n",
      "dtypes: bool(2), float64(2), int64(2), object(12)\n",
      "memory usage: 12.0+ KB\n"
     ]
    }
   ],
   "source": [
    "variable = ['O2']\n",
    "query = dict(ensemble=member_ids, experiment=['20C', 'RCP85'], \n",
    "                 stream='pop.h', variable=variable, direct_access=True)\n",
    "col_subset = col.search(**query)\n",
    "col_subset.query_results.info()"
   ]
  },
  {
   "cell_type": "markdown",
   "metadata": {},
   "source": [
    "Once the query is executed, we'll use the `to_xarray()` method to let intake-esm know that we want it to load the data into an xarray dataset. \n",
    "Ensembles will be concatenated along a new dimension `member_id`:"
   ]
  },
  {
   "cell_type": "code",
   "execution_count": 12,
   "metadata": {},
   "outputs": [],
   "source": [
    "chunks= {'time': 24, 'z_t': 30}"
   ]
  },
  {
   "cell_type": "code",
   "execution_count": 13,
   "metadata": {},
   "outputs": [
    {
     "data": {
      "application/vnd.jupyter.widget-view+json": {
       "model_id": "52989fd1714646b58c9fa9170bfbb58d",
       "version_major": 2,
       "version_minor": 0
      },
      "text/plain": [
       "HBox(children=(IntProgress(value=0, description='dataset', max=1, style=ProgressStyle(description_width='initi…"
      ]
     },
     "metadata": {},
     "output_type": "display_data"
    },
    {
     "data": {
      "application/vnd.jupyter.widget-view+json": {
       "model_id": "494f338821254902b05b53555e589125",
       "version_major": 2,
       "version_minor": 0
      },
      "text/plain": [
       "HBox(children=(IntProgress(value=0, description='member', max=32, style=ProgressStyle(description_width='initi…"
      ]
     },
     "metadata": {},
     "output_type": "display_data"
    },
    {
     "name": "stdout",
     "output_type": "stream",
     "text": [
      "\n",
      "CPU times: user 6.08 s, sys: 442 ms, total: 6.52 s\n",
      "Wall time: 36.3 s\n"
     ]
    }
   ],
   "source": [
    "%%time \n",
    "ds = col_subset.to_xarray(chunks=chunks, decode_times=False, decode_coords=False)"
   ]
  },
  {
   "cell_type": "code",
   "execution_count": 14,
   "metadata": {},
   "outputs": [
    {
     "data": {
      "text/plain": [
       "'2.84 TB'"
      ]
     },
     "execution_count": 14,
     "metadata": {},
     "output_type": "execute_result"
    }
   ],
   "source": [
    "format_bytes(ds.nbytes)"
   ]
  },
  {
   "cell_type": "code",
   "execution_count": 15,
   "metadata": {},
   "outputs": [
    {
     "data": {
      "text/plain": [
       "<xarray.Dataset>\n",
       "Dimensions:               (d2: 2, lat_aux_grid: 395, member_id: 32, moc_comp: 3, moc_z: 61, nlat: 384, nlon: 320, time: 3012, transport_comp: 5, transport_reg: 2, z_t: 60, z_t_150m: 15, z_w: 60, z_w_bot: 60, z_w_top: 60)\n",
       "Coordinates:\n",
       "  * time                  (time) float64 6.753e+05 6.753e+05 ... 7.669e+05\n",
       "  * lat_aux_grid          (lat_aux_grid) float32 -79.48815 -78.952896 ... 90.0\n",
       "  * moc_z                 (moc_z) float32 0.0 1000.0 ... 525000.94 549999.06\n",
       "  * z_t                   (z_t) float32 500.0 1500.0 ... 512502.8 537500.0\n",
       "  * z_t_150m              (z_t_150m) float32 500.0 1500.0 ... 13500.0 14500.0\n",
       "  * z_w                   (z_w) float32 0.0 1000.0 2000.0 ... 500004.7 525000.94\n",
       "  * z_w_bot               (z_w_bot) float32 1000.0 2000.0 ... 549999.06\n",
       "  * z_w_top               (z_w_top) float32 0.0 1000.0 ... 500004.7 525000.94\n",
       "  * member_id             (member_id) int64 1 2 9 10 11 ... 101 102 103 104 105\n",
       "Dimensions without coordinates: d2, moc_comp, nlat, nlon, transport_comp, transport_reg\n",
       "Data variables:\n",
       "    ANGLE                 (nlat, nlon) float64 dask.array<shape=(384, 320), chunksize=(384, 320)>\n",
       "    ANGLET                (nlat, nlon) float64 dask.array<shape=(384, 320), chunksize=(384, 320)>\n",
       "    DXT                   (nlat, nlon) float64 dask.array<shape=(384, 320), chunksize=(384, 320)>\n",
       "    DXU                   (nlat, nlon) float64 dask.array<shape=(384, 320), chunksize=(384, 320)>\n",
       "    DYT                   (nlat, nlon) float64 dask.array<shape=(384, 320), chunksize=(384, 320)>\n",
       "    DYU                   (nlat, nlon) float64 dask.array<shape=(384, 320), chunksize=(384, 320)>\n",
       "    HT                    (nlat, nlon) float64 dask.array<shape=(384, 320), chunksize=(384, 320)>\n",
       "    HTE                   (nlat, nlon) float64 dask.array<shape=(384, 320), chunksize=(384, 320)>\n",
       "    HTN                   (nlat, nlon) float64 dask.array<shape=(384, 320), chunksize=(384, 320)>\n",
       "    HU                    (nlat, nlon) float64 dask.array<shape=(384, 320), chunksize=(384, 320)>\n",
       "    HUS                   (nlat, nlon) float64 dask.array<shape=(384, 320), chunksize=(384, 320)>\n",
       "    HUW                   (nlat, nlon) float64 dask.array<shape=(384, 320), chunksize=(384, 320)>\n",
       "    KMT                   (nlat, nlon) float64 dask.array<shape=(384, 320), chunksize=(384, 320)>\n",
       "    KMU                   (nlat, nlon) float64 dask.array<shape=(384, 320), chunksize=(384, 320)>\n",
       "    REGION_MASK           (nlat, nlon) float64 dask.array<shape=(384, 320), chunksize=(384, 320)>\n",
       "    T0_Kelvin             float64 273.1\n",
       "    TAREA                 (nlat, nlon) float64 dask.array<shape=(384, 320), chunksize=(384, 320)>\n",
       "    TLAT                  (nlat, nlon) float64 dask.array<shape=(384, 320), chunksize=(384, 320)>\n",
       "    TLONG                 (nlat, nlon) float64 dask.array<shape=(384, 320), chunksize=(384, 320)>\n",
       "    UAREA                 (nlat, nlon) float64 dask.array<shape=(384, 320), chunksize=(384, 320)>\n",
       "    ULAT                  (nlat, nlon) float64 dask.array<shape=(384, 320), chunksize=(384, 320)>\n",
       "    ULONG                 (nlat, nlon) float64 dask.array<shape=(384, 320), chunksize=(384, 320)>\n",
       "    cp_air                float64 1.005e+03\n",
       "    cp_sw                 float64 3.996e+07\n",
       "    days_in_norm_year     float64 365.0\n",
       "    dz                    (z_t) float32 dask.array<shape=(60,), chunksize=(30,)>\n",
       "    dzw                   (z_w) float32 dask.array<shape=(60,), chunksize=(60,)>\n",
       "    fwflux_factor         float64 0.0001\n",
       "    grav                  float64 980.6\n",
       "    heat_to_PW            float64 4.186e-15\n",
       "    hflux_factor          float64 2.439e-05\n",
       "    latent_heat_fusion    float64 3.337e+09\n",
       "    latent_heat_vapor     float64 2.501e+06\n",
       "    mass_to_Sv            float64 1e-12\n",
       "    moc_components        (moc_comp) |S256 dask.array<shape=(3,), chunksize=(3,)>\n",
       "    momentum_factor       float64 10.0\n",
       "    nsurface_t            float64 8.621e+04\n",
       "    nsurface_u            float64 8.305e+04\n",
       "    ocn_ref_salinity      float64 34.7\n",
       "    omega                 float64 7.292e-05\n",
       "    ppt_to_salt           float64 0.001\n",
       "    radius                float64 6.371e+08\n",
       "    rho_air               float64 1.292\n",
       "    rho_fw                float64 1.0\n",
       "    rho_sw                float64 1.026\n",
       "    salinity_factor       float64 -0.00347\n",
       "    salt_to_Svppt         float64 1e-09\n",
       "    salt_to_mmday         float64 3.154e+05\n",
       "    salt_to_ppt           float64 1e+03\n",
       "    sea_ice_salinity      float64 4.0\n",
       "    sflux_factor          float64 0.1\n",
       "    sound                 float64 1.5e+05\n",
       "    stefan_boltzmann      float64 5.67e-08\n",
       "    transport_components  (transport_comp) |S256 dask.array<shape=(5,), chunksize=(5,)>\n",
       "    transport_regions     (transport_reg) |S256 dask.array<shape=(2,), chunksize=(2,)>\n",
       "    vonkar                float64 0.4\n",
       "    time_bound            (time, d2) float64 dask.array<shape=(3012, 2), chunksize=(24, 2)>\n",
       "    O2                    (member_id, time, z_t, nlat, nlon) float32 dask.array<shape=(32, 3012, 60, 384, 320), chunksize=(1, 24, 30, 384, 320)>\n",
       "Attributes:\n",
       "    tavg_sum:                  2592000.0\n",
       "    tavg_sum_qflux:            2592000.0\n",
       "    start_time:                This dataset was created on 2014-11-19 at 05:0...\n",
       "    revision:                  $Id: tavg.F90 41939 2012-11-14 16:37:23Z mlevy...\n",
       "    cell_methods:              cell_methods = time: mean ==> the variable val...\n",
       "    Conventions:               CF-1.0; http://www.cgd.ucar.edu/cms/eaton/netc...\n",
       "    history:                   2019-04-16 11:13:09.392641 xarray.open_dataset...\n",
       "    contents:                  Diagnostic and Prognostic Variables\n",
       "    title:                     b.e11.BRCP85C5CNBDRD.f09_g16.032\n",
       "    nco_openmp_thread_number:  1\n",
       "    NCO:                       4.3.4\n",
       "    calendar:                  All years have exactly  365 days.\n",
       "    nsteps_total:              750\n",
       "    source:                    CCSM POP2, the CCSM Ocean Component"
      ]
     },
     "execution_count": 15,
     "metadata": {},
     "output_type": "execute_result"
    }
   ],
   "source": [
    "ds"
   ]
  },
  {
   "cell_type": "markdown",
   "metadata": {},
   "source": [
    "### Compute Annual mean"
   ]
  },
  {
   "cell_type": "code",
   "execution_count": 16,
   "metadata": {},
   "outputs": [
    {
     "name": "stdout",
     "output_type": "stream",
     "text": [
      "CPU times: user 7.42 s, sys: 338 ms, total: 7.76 s\n",
      "Wall time: 7.73 s\n"
     ]
    }
   ],
   "source": [
    "%time global_mean = esmlab.resample(ds, freq='ann', time_coord_name='time')"
   ]
  },
  {
   "cell_type": "code",
   "execution_count": 17,
   "metadata": {},
   "outputs": [
    {
     "name": "stdout",
     "output_type": "stream",
     "text": [
      "CPU times: user 6min 36s, sys: 26.5 s, total: 7min 2s\n",
      "Wall time: 16min 45s\n"
     ]
    }
   ],
   "source": [
    "%%time\n",
    "global_mean = global_mean.persist()\n",
    "wait(global_mean)"
   ]
  },
  {
   "cell_type": "code",
   "execution_count": 18,
   "metadata": {},
   "outputs": [
    {
     "data": {
      "text/plain": [
       "'473.77 GB'"
      ]
     },
     "execution_count": 18,
     "metadata": {},
     "output_type": "execute_result"
    }
   ],
   "source": [
    "format_bytes(global_mean.nbytes)"
   ]
  },
  {
   "cell_type": "code",
   "execution_count": 19,
   "metadata": {},
   "outputs": [
    {
     "data": {
      "text/plain": [
       "<xarray.Dataset>\n",
       "Dimensions:               (d2: 2, lat_aux_grid: 395, member_id: 32, moc_comp: 3, moc_z: 61, nlat: 384, nlon: 320, time: 251, transport_comp: 5, transport_reg: 2, z_t: 60, z_t_150m: 15, z_w: 60, z_w_bot: 60, z_w_top: 60)\n",
       "Coordinates:\n",
       "  * member_id             (member_id) int64 1 2 9 10 11 ... 101 102 103 104 105\n",
       "  * z_t                   (z_t) float64 500.0 1.5e+03 ... 5.125e+05 5.375e+05\n",
       "  * time                  (time) float64 6.754e+05 6.758e+05 ... 7.667e+05\n",
       "  * lat_aux_grid          (lat_aux_grid) float32 -79.48815 -78.952896 ... 90.0\n",
       "  * moc_z                 (moc_z) float32 0.0 1000.0 ... 525000.94 549999.06\n",
       "  * z_t_150m              (z_t_150m) float32 500.0 1500.0 ... 13500.0 14500.0\n",
       "  * z_w                   (z_w) float32 0.0 1000.0 2000.0 ... 500004.7 525000.94\n",
       "  * z_w_bot               (z_w_bot) float32 1000.0 2000.0 ... 549999.06\n",
       "  * z_w_top               (z_w_top) float32 0.0 1000.0 ... 500004.7 525000.94\n",
       "Dimensions without coordinates: d2, moc_comp, nlat, nlon, transport_comp, transport_reg\n",
       "Data variables:\n",
       "    time_bound            (d2, time) float64 dask.array<shape=(2, 251), chunksize=(1, 1)>\n",
       "    O2                    (member_id, time, z_t, nlat, nlon) float64 dask.array<shape=(32, 251, 60, 384, 320), chunksize=(1, 1, 30, 384, 320)>\n",
       "    ANGLE                 (nlat, nlon) float64 dask.array<shape=(384, 320), chunksize=(384, 320)>\n",
       "    ANGLET                (nlat, nlon) float64 dask.array<shape=(384, 320), chunksize=(384, 320)>\n",
       "    DXT                   (nlat, nlon) float64 dask.array<shape=(384, 320), chunksize=(384, 320)>\n",
       "    DXU                   (nlat, nlon) float64 dask.array<shape=(384, 320), chunksize=(384, 320)>\n",
       "    DYT                   (nlat, nlon) float64 dask.array<shape=(384, 320), chunksize=(384, 320)>\n",
       "    DYU                   (nlat, nlon) float64 dask.array<shape=(384, 320), chunksize=(384, 320)>\n",
       "    HT                    (nlat, nlon) float64 dask.array<shape=(384, 320), chunksize=(384, 320)>\n",
       "    HTE                   (nlat, nlon) float64 dask.array<shape=(384, 320), chunksize=(384, 320)>\n",
       "    HTN                   (nlat, nlon) float64 dask.array<shape=(384, 320), chunksize=(384, 320)>\n",
       "    HU                    (nlat, nlon) float64 dask.array<shape=(384, 320), chunksize=(384, 320)>\n",
       "    HUS                   (nlat, nlon) float64 dask.array<shape=(384, 320), chunksize=(384, 320)>\n",
       "    HUW                   (nlat, nlon) float64 dask.array<shape=(384, 320), chunksize=(384, 320)>\n",
       "    KMT                   (nlat, nlon) float64 dask.array<shape=(384, 320), chunksize=(384, 320)>\n",
       "    KMU                   (nlat, nlon) float64 dask.array<shape=(384, 320), chunksize=(384, 320)>\n",
       "    REGION_MASK           (nlat, nlon) float64 dask.array<shape=(384, 320), chunksize=(384, 320)>\n",
       "    T0_Kelvin             float64 273.1\n",
       "    TAREA                 (nlat, nlon) float64 dask.array<shape=(384, 320), chunksize=(384, 320)>\n",
       "    TLAT                  (nlat, nlon) float64 dask.array<shape=(384, 320), chunksize=(384, 320)>\n",
       "    TLONG                 (nlat, nlon) float64 dask.array<shape=(384, 320), chunksize=(384, 320)>\n",
       "    UAREA                 (nlat, nlon) float64 dask.array<shape=(384, 320), chunksize=(384, 320)>\n",
       "    ULAT                  (nlat, nlon) float64 dask.array<shape=(384, 320), chunksize=(384, 320)>\n",
       "    ULONG                 (nlat, nlon) float64 dask.array<shape=(384, 320), chunksize=(384, 320)>\n",
       "    cp_air                float64 1.005e+03\n",
       "    cp_sw                 float64 3.996e+07\n",
       "    days_in_norm_year     float64 365.0\n",
       "    dz                    (z_t) float32 dask.array<shape=(60,), chunksize=(30,)>\n",
       "    dzw                   (z_w) float32 dask.array<shape=(60,), chunksize=(60,)>\n",
       "    fwflux_factor         float64 0.0001\n",
       "    grav                  float64 980.6\n",
       "    heat_to_PW            float64 4.186e-15\n",
       "    hflux_factor          float64 2.439e-05\n",
       "    latent_heat_fusion    float64 3.337e+09\n",
       "    latent_heat_vapor     float64 2.501e+06\n",
       "    mass_to_Sv            float64 1e-12\n",
       "    moc_components        (moc_comp) |S256 dask.array<shape=(3,), chunksize=(3,)>\n",
       "    momentum_factor       float64 10.0\n",
       "    nsurface_t            float64 8.621e+04\n",
       "    nsurface_u            float64 8.305e+04\n",
       "    ocn_ref_salinity      float64 34.7\n",
       "    omega                 float64 7.292e-05\n",
       "    ppt_to_salt           float64 0.001\n",
       "    radius                float64 6.371e+08\n",
       "    rho_air               float64 1.292\n",
       "    rho_fw                float64 1.0\n",
       "    rho_sw                float64 1.026\n",
       "    salinity_factor       float64 -0.00347\n",
       "    salt_to_Svppt         float64 1e-09\n",
       "    salt_to_mmday         float64 3.154e+05\n",
       "    salt_to_ppt           float64 1e+03\n",
       "    sea_ice_salinity      float64 4.0\n",
       "    sflux_factor          float64 0.1\n",
       "    sound                 float64 1.5e+05\n",
       "    stefan_boltzmann      float64 5.67e-08\n",
       "    transport_components  (transport_comp) |S256 dask.array<shape=(5,), chunksize=(5,)>\n",
       "    transport_regions     (transport_reg) |S256 dask.array<shape=(2,), chunksize=(2,)>\n",
       "    vonkar                float64 0.4\n",
       "Attributes:\n",
       "    history:  \\n2019-04-16 11:13:50.666376 esmlab.resample(<DATASET>, freq=\"a..."
      ]
     },
     "execution_count": 19,
     "metadata": {},
     "output_type": "execute_result"
    }
   ],
   "source": [
    "global_mean"
   ]
  },
  {
   "cell_type": "markdown",
   "metadata": {},
   "source": [
    "### Compute Weighted Global Mean"
   ]
  },
  {
   "cell_type": "code",
   "execution_count": 20,
   "metadata": {},
   "outputs": [
    {
     "name": "stdout",
     "output_type": "stream",
     "text": [
      "CPU times: user 553 ms, sys: 35.9 ms, total: 589 ms\n",
      "Wall time: 553 ms\n"
     ]
    }
   ],
   "source": [
    "%%time \n",
    "global_mean = esmlab.statistics.weighted_mean(global_mean, \n",
    "                                                  weights=MASKED_VOL, \n",
    "                                                  dim=['z_t', 'nlat', 'nlon'])"
   ]
  },
  {
   "cell_type": "code",
   "execution_count": 21,
   "metadata": {},
   "outputs": [
    {
     "data": {
      "text/plain": [
       "'20.72 MB'"
      ]
     },
     "execution_count": 21,
     "metadata": {},
     "output_type": "execute_result"
    }
   ],
   "source": [
    "format_bytes(global_mean.nbytes)"
   ]
  },
  {
   "cell_type": "code",
   "execution_count": 22,
   "metadata": {},
   "outputs": [
    {
     "name": "stderr",
     "output_type": "stream",
     "text": [
      "/glade/work/abanihi/softwares/miniconda3/envs/analysis/lib/python3.7/site-packages/distributed/worker.py:2827: UserWarning: Large object of size 58.98 MB detected in task graph: \n",
      "  (array([[[[[0.00000000e+00, 0.00000000e+00, 0.0000 ... 0, 320, None)))\n",
      "Consider scattering large objects ahead of time\n",
      "with client.scatter to reduce scheduler burden and \n",
      "keep data on workers\n",
      "\n",
      "    future = client.submit(func, big_data)    # bad\n",
      "\n",
      "    big_future = client.scatter(big_data)     # good\n",
      "    future = client.submit(func, big_future)  # good\n",
      "  % (format_bytes(len(b)), s))\n"
     ]
    },
    {
     "name": "stdout",
     "output_type": "stream",
     "text": [
      "CPU times: user 40.8 s, sys: 2.51 s, total: 43.3 s\n",
      "Wall time: 47.7 s\n"
     ]
    }
   ],
   "source": [
    "%%time\n",
    "computed_mean = global_mean.compute()"
   ]
  },
  {
   "cell_type": "code",
   "execution_count": 23,
   "metadata": {},
   "outputs": [
    {
     "data": {
      "text/plain": [
       "<xarray.Dataset>\n",
       "Dimensions:               (d2: 2, member_id: 32, moc_comp: 3, nlat: 384, nlon: 320, time: 251, transport_comp: 5, transport_reg: 2, z_t: 60, z_w: 60)\n",
       "Coordinates:\n",
       "  * time                  (time) float64 6.754e+05 6.758e+05 ... 7.667e+05\n",
       "  * member_id             (member_id) int64 1 2 9 10 11 ... 101 102 103 104 105\n",
       "  * z_t                   (z_t) float64 500.0 1.5e+03 ... 5.125e+05 5.375e+05\n",
       "  * z_w                   (z_w) float32 0.0 1000.0 2000.0 ... 500004.7 525000.94\n",
       "Dimensions without coordinates: d2, moc_comp, nlat, nlon, transport_comp, transport_reg\n",
       "Data variables:\n",
       "    time_bound            (d2, time) float64 6.753e+05 6.756e+05 ... 7.669e+05\n",
       "    O2                    (member_id, time) float64 177.6 177.6 ... 169.8 169.7\n",
       "    ANGLE                 (nlat, nlon) float64 0.0 0.0 0.0 ... -0.0259 2.804e-07\n",
       "    ANGLET                (nlat, nlon) float64 0.0 0.0 0.0 ... -0.03805 -0.01268\n",
       "    DXT                   (nlat, nlon) float64 1.894e+06 1.893e+06 ... 1.473e+06\n",
       "    DXU                   (nlat, nlon) float64 2.397e+06 2.397e+06 ... 1.391e+06\n",
       "    DYT                   (nlat, nlon) float64 5.94e+06 5.94e+06 ... 5.046e+06\n",
       "    DYU                   (nlat, nlon) float64 5.94e+06 5.94e+06 ... 5.493e+06\n",
       "    HT                    (nlat, nlon) float64 0.0 0.0 0.0 0.0 ... 0.0 0.0 0.0\n",
       "    HTE                   (nlat, nlon) float64 5.94e+06 5.94e+06 ... 5.046e+06\n",
       "    HTN                   (nlat, nlon) float64 2.397e+06 2.397e+06 ... 1.391e+06\n",
       "    HU                    (nlat, nlon) float64 0.0 0.0 0.0 0.0 ... 0.0 0.0 0.0\n",
       "    HUS                   (nlat, nlon) float64 2.397e+06 2.397e+06 ... 1.473e+06\n",
       "    HUW                   (nlat, nlon) float64 5.94e+06 5.94e+06 ... 5.046e+06\n",
       "    KMT                   (nlat, nlon) float64 0.0 0.0 0.0 0.0 ... 0.0 0.0 0.0\n",
       "    KMU                   (nlat, nlon) float64 0.0 0.0 0.0 0.0 ... 0.0 0.0 0.0\n",
       "    REGION_MASK           (nlat, nlon) float64 0.0 0.0 0.0 0.0 ... 0.0 0.0 0.0\n",
       "    T0_Kelvin             float64 273.1\n",
       "    TAREA                 (nlat, nlon) float64 1.125e+13 1.125e+13 ... 7.432e+12\n",
       "    TLAT                  (nlat, nlon) float64 -79.22 -79.22 ... 72.19 72.19\n",
       "    TLONG                 (nlat, nlon) float64 320.6 321.7 322.8 ... 319.4 319.8\n",
       "    UAREA                 (nlat, nlon) float64 1.423e+13 1.423e+13 ... 7.639e+12\n",
       "    ULAT                  (nlat, nlon) float64 -78.95 -78.95 ... 72.41 72.41\n",
       "    ULONG                 (nlat, nlon) float64 321.1 322.3 323.4 ... 319.6 320.0\n",
       "    cp_air                float64 1.005e+03\n",
       "    cp_sw                 float64 3.996e+07\n",
       "    days_in_norm_year     float64 365.0\n",
       "    dz                    (z_t) float32 1000.0 1000.0 ... 24996.244 24998.11\n",
       "    dzw                   (z_w) float32 500.0 1000.0 ... 24994.459 24997.176\n",
       "    fwflux_factor         float64 0.0001\n",
       "    grav                  float64 980.6\n",
       "    heat_to_PW            float64 4.186e-15\n",
       "    hflux_factor          float64 2.439e-05\n",
       "    latent_heat_fusion    float64 3.337e+09\n",
       "    latent_heat_vapor     float64 2.501e+06\n",
       "    mass_to_Sv            float64 1e-12\n",
       "    moc_components        (moc_comp) |S256 b'Eulerian Mean' ... b'Submeso'\n",
       "    momentum_factor       float64 10.0\n",
       "    nsurface_t            float64 8.621e+04\n",
       "    nsurface_u            float64 8.305e+04\n",
       "    ocn_ref_salinity      float64 34.7\n",
       "    omega                 float64 7.292e-05\n",
       "    ppt_to_salt           float64 0.001\n",
       "    radius                float64 6.371e+08\n",
       "    rho_air               float64 1.292\n",
       "    rho_fw                float64 1.0\n",
       "    rho_sw                float64 1.026\n",
       "    salinity_factor       float64 -0.00347\n",
       "    salt_to_Svppt         float64 1e-09\n",
       "    salt_to_mmday         float64 3.154e+05\n",
       "    salt_to_ppt           float64 1e+03\n",
       "    sea_ice_salinity      float64 4.0\n",
       "    sflux_factor          float64 0.1\n",
       "    sound                 float64 1.5e+05\n",
       "    stefan_boltzmann      float64 5.67e-08\n",
       "    transport_components  (transport_comp) |S256 b'Total' ... b'Submeso Advection'\n",
       "    transport_regions     (transport_reg) |S256 b'Global Ocean - Marginal Seas' b'Atlantic Ocean + Mediterranean Sea + Labrador Sea + GIN Sea + Arctic Ocean + Hudson Bay'\n",
       "    vonkar                float64 0.4\n",
       "Attributes:\n",
       "    history:  \\n2019-04-16 11:13:50.666376 esmlab.resample(<DATASET>, freq=\"a..."
      ]
     },
     "execution_count": 23,
     "metadata": {},
     "output_type": "execute_result"
    }
   ],
   "source": [
    "computed_mean"
   ]
  },
  {
   "cell_type": "code",
   "execution_count": 24,
   "metadata": {},
   "outputs": [
    {
     "name": "stdout",
     "output_type": "stream",
     "text": [
      "intake        0.4.4\n",
      "ncar_jobqueue v2019.3.8\n",
      "esmlab        v2019.3.16+140.gd3ce9a5\n",
      "matplotlib    3.0.3\n",
      "dask          1.2.0\n",
      "xarray        0.12.1\n",
      "numpy         1.15.4\n",
      "last updated: 2019-04-16 \n",
      "\n",
      "CPython 3.7.3\n",
      "IPython 7.1.1\n",
      "\n",
      "compiler   : GCC 7.3.0\n",
      "system     : Linux\n",
      "release    : 3.10.0-693.21.1.el7.x86_64\n",
      "machine    : x86_64\n",
      "processor  : x86_64\n",
      "CPU cores  : 72\n",
      "interpreter: 64bit\n",
      "host name  : casper10\n",
      "Git hash   : d3ce9a523a8ea8776b5b46fa6835472a1728b8d4\n"
     ]
    }
   ],
   "source": [
    "%load_ext watermark\n",
    "%watermark --iversion -g -m -v -u -d -h"
   ]
  }
 ],
 "metadata": {
  "kernelspec": {
   "display_name": "Python [conda env:analysis]",
   "language": "python",
   "name": "conda-env-analysis-py"
  },
  "language_info": {
   "codemirror_mode": {
    "name": "ipython",
    "version": 3
   },
   "file_extension": ".py",
   "mimetype": "text/x-python",
   "name": "python",
   "nbconvert_exporter": "python",
   "pygments_lexer": "ipython3",
   "version": "3.7.3"
  }
 },
 "nbformat": 4,
 "nbformat_minor": 2
}
